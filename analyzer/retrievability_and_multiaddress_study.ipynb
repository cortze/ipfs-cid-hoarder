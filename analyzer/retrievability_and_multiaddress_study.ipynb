{
 "cells": [
  {
   "cell_type": "markdown",
   "id": "b02a2373",
   "metadata": {},
   "source": [
    "# Retrievability and Multiaddress study\n",
    "This script analyzes both, the retrievability of a CID over the experiment, as the content of those PRs shared when retrieving the Provider of a CID\n",
    "\n",
    "The script is divided in three main stages:\n",
    "1. Analyzing individually the direct reply of the PR holders for the entire study\n",
    "2. Analyzing the reply of those peers sharing the PRs during the DHT lookup over the study\n",
    "3. Analyzing the final result of the DHT lookup over the study"
   ]
  },
  {
   "cell_type": "code",
   "id": "27de625a",
   "metadata": {},
   "source": [
    "import matplotlib.pyplot as plt\n",
    "import pandas as pd\n",
    "import numpy as np\n",
    "\n",
    "from log import custom_parser\n",
    "\n",
    "import warnings\n",
    "warnings.filterwarnings('ignore')\n",
    "\n",
    "plt.rcParams[\"figure.figsize\"] = (10, 6)\n",
    "plt.rcParams[\"figure.facecolor\"] = \"white\"\n",
    "\n",
    "## Define the path to the file containing the logs\n",
    "LOG_FILE = \"path/to/logs.txt\" \n",
    "\n",
    "## parse the logs using our custom log parser\n",
    "log_file = parser.LogFile(LOG_FILE)\n",
    "\n",
    "## analyze the logs\n",
    "log_file.analyze_logs()"
   ],
   "outputs": [],
   "execution_count": null
  },
  {
   "cell_type": "code",
   "id": "3dd7883f",
   "metadata": {},
   "source": [
    "## Once the internal struct of the logs are analyzed, proceed to gather the summaries of all the CIDs\n",
    "cid_round_stats = {}\n",
    "\n",
    "# iter through all the list of cids\n",
    "for cid in log_file.cid_map:\n",
    "    cid_stats = {\n",
    "        \"duration\": [],\n",
    "        \"succ_indv_pings\": [],\n",
    "        \"indv_pings\": [],\n",
    "        \"succ_indv_lookup_ping\": [],\n",
    "        \"indv_lookup_ping\": [],\n",
    "        \"lookup\": [],\n",
    "    }\n",
    "    # for each cid iter through the ping_rounds\n",
    "    for i, pr in enumerate(log_file.cid_map[cid].ping_rounds):\n",
    "        pr_sum = pr.summary()\n",
    "        # append all the metrics to the cid_stats\n",
    "        cid_stats[\"duration\"].append(pr_sum[\"total_duration\"])\n",
    "        cid_stats[\"succ_indv_pings\"].append(pr_sum[\"pr_holder_succ_pings\"])\n",
    "        cid_stats[\"indv_pings\"].append(pr_sum[\"pr_holder_ping_with_multiaddr\"])\n",
    "        cid_stats[\"succ_indv_lookup_ping\"].append(pr_sum[\"lookup_succ_pings\"])\n",
    "        cid_stats[\"indv_lookup_ping\"].append(pr_sum[\"lookup_succ_pings_with_multiaddr\"])\n",
    "        cid_stats[\"lookup\"].append(pr_sum[\"lookup_final_result\"])\n",
    "        \n",
    "        #if pr_sum[\"lookup_succ_pings\"] > 20:\n",
    "        #    print(cid, \"pr=\", i, \"->\", pr_sum[\"lookup_succ_pings\"])\n",
    "        \n",
    "    # append cid_stats to the cid_round_stats\n",
    "    cid_round_stats[cid] = cid_stats\n",
    "\n",
    "print(len(cid_round_stats), \"CIDs -> \")\n",
    "    \n",
    "    "
   ],
   "outputs": [],
   "execution_count": null
  },
  {
   "cell_type": "code",
   "id": "23c58803",
   "metadata": {},
   "source": [
    "# Transforms individual CID distributions into a general one where ping_rounds are grouped\n",
    "def cid_dists_from_individuals(cid_dists):\n",
    "    trans_stats = []\n",
    "    # get len of total ping_rounds\n",
    "    max_len = 0\n",
    "    for stats in cid_dists:\n",
    "        l = len(stats)\n",
    "        if l > max_len:\n",
    "            max_len = l\n",
    "    # init the transposed matrix        \n",
    "    for i in np.arange(max_len):\n",
    "        trans_stats.append([])\n",
    "\n",
    "    # transpose the matrix \n",
    "    for stat in cid_dists:\n",
    "        for i, item in enumerate(stat):\n",
    "            trans_stats[i].append(item)\n",
    "    \n",
    "    return trans_stats\n",
    "\n",
    "## Display the distribution stats \n",
    "def plot_stats_key(cid_stats, key):\n",
    "    stats_dist = []\n",
    "    # iter through cids\n",
    "    for cid in cid_stats:\n",
    "        stats_dist.append(cid_stats[cid][key]) \n",
    "        \n",
    "    # Transpose the matrix\n",
    "    correct_stats = cid_dists_from_individuals(stats_dist)\n",
    "    \n",
    "    fig, ax = plt.subplots(figsize=(10,6))\n",
    "    \n",
    "    ax.boxplot(correct_stats, showfliers=True) \n",
    "    #ax.set_title(f\"distribution of {key}\", fontsize=20)\n",
    "    ax.set_xlabel(\"Ping Rounds (3 min delay between pings)\", fontsize=16)\n",
    "    ax.set_ylabel(\"Number of Peers\", fontsize=16)\n",
    "    plt.show()\n",
    "   "
   ],
   "outputs": [],
   "execution_count": null
  },
  {
   "cell_type": "code",
   "id": "055318b9",
   "metadata": {},
   "source": [
    "## plot the stats in relation to the individual PR holders' pings\n",
    "\n",
    "# Check if they shared the PRs\n",
    "plot_stats_key(cid_round_stats, \"succ_indv_pings\")  \n",
    "\n",
    "# Check if the PRs came with the Multiaddresses\n",
    "plot_stats_key(cid_round_stats, \"indv_pings\")  "
   ],
   "outputs": [],
   "execution_count": null
  },
  {
   "cell_type": "code",
   "id": "a89a4e15",
   "metadata": {},
   "source": [
    "## Plot the stats in relation to the replies during the dht lookup\n",
    "\n",
    "# Check if they shared the PRs\n",
    "plot_stats_key(cid_round_stats, \"succ_indv_lookup_ping\")  \n",
    "\n",
    "# Check if the PRs came with the Multiaddresses\n",
    "plot_stats_key(cid_round_stats, \"indv_lookup_ping\")  "
   ],
   "outputs": [],
   "execution_count": null
  },
  {
   "cell_type": "code",
   "id": "506b25af",
   "metadata": {},
   "source": [
    "## plot the stats in relation to the DHT result\n",
    "\n",
    "key = \"lookup\"\n",
    "\n",
    "stats_dist = []\n",
    "# iter through cids\n",
    "for cid in cid_round_stats:\n",
    "    stats_dist.append(cid_round_stats[cid][key]) \n",
    "\n",
    "# Transpose the matrix\n",
    "correct_stats = cid_dists_from_individuals(stats_dist)\n",
    "\n",
    "# Custom plot\n",
    "fig, ax = plt.subplots(figsize=(10,6))\n",
    "ax.boxplot(correct_stats, showfliers=True) \n",
    "#ax.set_title(f\"distribution of {key}\", fontsize=20)\n",
    "ax.set_xlabel(\"Ping Rounds (3 min delay between pings)\", fontsize=16)\n",
    "ax.set_yticks([0, 1, 2]) \n",
    "ax.set_yticklabels([\"no response\", \"PeerID\", \"PeerID + MAddrss\"])\n",
    "plt.show() "
   ],
   "outputs": [],
   "execution_count": null
  }
 ],
 "metadata": {
  "kernelspec": {
   "display_name": "Python 3.8.10 64-bit",
   "language": "python",
   "name": "python3"
  },
  "language_info": {
   "codemirror_mode": {
    "name": "ipython",
    "version": 3
   },
   "file_extension": ".py",
   "mimetype": "text/x-python",
   "name": "python",
   "nbconvert_exporter": "python",
   "pygments_lexer": "ipython3",
   "version": "3.8.10"
  },
  "vscode": {
   "interpreter": {
    "hash": "916dbcbb3f70747c44a77c7bcd40155683ae19c65e1c03b4aa3499c5328201f1"
   }
  }
 },
 "nbformat": 4,
 "nbformat_minor": 5
}
