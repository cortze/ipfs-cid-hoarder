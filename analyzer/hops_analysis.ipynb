{
 "cells": [
  {
   "cell_type": "markdown",
   "metadata": {},
   "source": [
    "# Analysis of the Hops during the GetClosestPeers lookups\n",
    "This scripts covers all the metrics that we can extract from the publication of the CIDS (for the publisher):\n",
    "1. Successful PR Holders CDF, PDF\n",
    "2. Total publication time distribution: CDF, PDS, Quartile Distributions\n",
    "3. Client distribution from the whole set of PR Holders\n",
    "4. Client distribution for the PR Holders of each CID    "
   ]
  },
  {
   "cell_type": "code",
   "metadata": {},
   "source": [
    "## Import dependencies\n",
    "import sqlalchemy as sa\n",
    "import pandas as pd\n",
    "import seaborn as sns\n",
    "import matplotlib.pyplot as plt\n",
    "import numpy as np\n",
    "\n",
    "## DB Credentials\n",
    "HOST=\"localhost\"\n",
    "PORT=\"5432\"\n",
    "DB=\"hoarder_test\"\n",
    "USER=\"hoarder\"\n",
    "PASSWD=\"password\"\n",
    "\n",
    "# Connecte with the DB\n",
    "engine = sa.create_engine(f'postgresql://{USER}:{PASSWD}@{HOST}:{PORT}/{DB}')\n",
    "\n",
    "## plotting style\n",
    "fig_size= (7,4)\n",
    "sns.set_context(\"talk\", font_scale=1)\n"
   ],
   "outputs": [],
   "execution_count": null
  },
  {
   "cell_type": "markdown",
   "metadata": {},
   "source": [
    "## Number of total hops\n",
    "If we think about a peer tree built while walking the DHT looking for the closest peers to a CID:\n",
    "```\n",
    "Peer Tree:\n",
    "\tpeer 0 \t-- peer 2\t-- peer 6\t-- peer 7\n",
    " \t\t  `\t\t   `-- peer 7\t   `-- peer 6\n",
    " \t\t   `-- peer 3\t-- peer 8\t-- peer 7\n",
    " \t\t\t\t\t\t\t\t   `-- peer 6\n",
    " \t\t\t\t\t   `-- peer 6\n",
    "\n",
    " \tpeer 1 \t-- peer 4\t-- peer 7\n",
    " \t\t   `-- peer 5\t-- peer 9 \t-- peer 7\n",
    "\t\t\t\t\t `\t\t   \t   `-- peer 6\n",
    " \t\t    \t\t   `-- peer 10 \t-- peer 11\t--peer6 \n",
    "```\n",
    "the total number of hops represent the max number of hops performed during the lookup (max depth of the tree)"
   ]
  },
  {
   "cell_type": "code",
   "metadata": {},
   "source": [
    "## Get the number of total hops that needed to be done to get the closest peers over the entire study\n",
    "\n",
    "hops_obj = pd.read_sql_query(\"\"\"\n",
    "    SELECT \n",
    "        total_hops, \n",
    "        count(total_hops) \n",
    "    FROM fetch_results \n",
    "    GROUP BY total_hops \n",
    "    ORDER BY total_hops ASC;\n",
    "\"\"\", engine)\n",
    "\n",
    "# calculate the distributions\n",
    "tot_hops = hops_obj[\"count\"].sum()\n",
    "hops_obj[\"%\"] = (hops_obj[\"count\"]/tot_hops)*100\n",
    "\n",
    "fig, ax = plt.subplots()\n",
    "box_dict = ax.bar(hops_obj[\"total_hops\"], hops_obj[\"%\"])\n",
    "ax.set_ylabel(\"K Closest Calculations (%)\", fontsize=18)\n",
    "ax.set_xlabel(\"Number of Hops\", fontsize=18)\n",
    "ax.set_ylim(bottom=0)\n",
    "ax.set_xlim(0, 10)\n",
    "\n",
    "plt.grid(axis='y')\n",
    "plt.tick_params(axis='x', which='major', labelsize=16)\n",
    "plt.tick_params(axis='y', which='major', labelsize=16)\n",
    "plt.show()"
   ],
   "outputs": [],
   "execution_count": null
  },
  {
   "cell_type": "markdown",
   "metadata": {},
   "source": [
    "## Number of min hops to discover the closest peers for the first time\n",
    "If we think about a peer tree built while walking the DHT looking for the closest peers to a CID:\n",
    "```\n",
    "Peer Tree:\n",
    "\tpeer 0 \t-- peer 2\t-- peer 6\t-- peer 7\n",
    " \t\t  `\t\t   `-- peer 7\t   `-- peer 6\n",
    " \t\t   `-- peer 3\t-- peer 8\t-- peer 7\n",
    " \t\t\t\t\t\t\t\t   `-- peer 6\n",
    " \t\t\t\t\t   `-- peer 6\n",
    "\n",
    " \tpeer 1 \t-- peer 4\t-- peer 7\n",
    " \t\t   `-- peer 5\t-- peer 9 \t-- peer 7\n",
    "\t\t\t\t\t `\t\t   \t   `-- peer 6\n",
    " \t\t    \t\t   `-- peer 10 \t-- peer 11\t--peer6 \n",
    "```\n",
    "the minimum hops to discover the closest peers represent the min depth in the tree at which we already know all the closest peers."
   ]
  },
  {
   "cell_type": "code",
   "metadata": {},
   "source": [
    "# Get the number of hops that needed to know all the closest peers over the entire study\n",
    "hops_obj = pd.read_sql_query(\"\"\"\n",
    "    SELECT\n",
    "        hops_for_closest, \n",
    "        count(hops_for_closest) \n",
    "    FROM fetch_results \n",
    "    GROUP BY hops_for_closest \n",
    "    ORDER BY hops_for_closest ASC;\n",
    "\"\"\", engine) \n",
    "\n",
    "# get the distributions\n",
    "tot_hops = hops_obj[\"count\"].sum()\n",
    "hops_obj[\"%\"] = (hops_obj[\"count\"]/tot_hops)*100\n",
    "\n",
    "fig, ax = plt.subplots()\n",
    "box_dict = ax.bar(hops_obj[\"hops_for_closest\"], hops_obj[\"%\"])\n",
    "ax.set_ylabel(\"K Closest Calculations (%)\", fontsize=18)\n",
    "ax.set_xlabel(\"Number of Hops\", fontsize=18)\n",
    "ax.set_ylim(bottom=0)\n",
    "ax.set_xlim(0, 8)\n",
    "\n",
    "plt.grid(axis='y')\n",
    "plt.tick_params(axis='x', which='major', labelsize=16)\n",
    "plt.tick_params(axis='y', which='major', labelsize=16)\n",
    "plt.show()"
   ],
   "outputs": [],
   "execution_count": null
  },
  {
   "cell_type": "code",
   "metadata": {},
   "source": [
    "engine.dispose()"
   ],
   "outputs": [],
   "execution_count": null
  }
 ],
 "metadata": {
  "kernelspec": {
   "display_name": "Python 3.8.10 ('plotter')",
   "language": "python",
   "name": "python3"
  },
  "language_info": {
   "codemirror_mode": {
    "name": "ipython",
    "version": 3
   },
   "file_extension": ".py",
   "mimetype": "text/x-python",
   "name": "python",
   "nbconvert_exporter": "python",
   "pygments_lexer": "ipython3",
   "version": "3.8.10"
  },
  "orig_nbformat": 4,
  "vscode": {
   "interpreter": {
    "hash": "27c6d93b683c7a1975bfd893e997da1d087883bf6b96d34d1e63ecc137ac54d0"
   }
  }
 },
 "nbformat": 4,
 "nbformat_minor": 2
}
