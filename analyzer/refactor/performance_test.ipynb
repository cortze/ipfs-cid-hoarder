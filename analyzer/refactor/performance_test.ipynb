{
 "cells": [
  {
   "cell_type": "code",
   "execution_count": 1,
   "metadata": {
    "collapsed": true,
    "ExecuteTime": {
     "start_time": "2023-05-26T09:58:46.150470Z",
     "end_time": "2023-05-26T09:58:46.276341Z"
    }
   },
   "outputs": [
    {
     "name": "stdout",
     "output_type": "stream",
     "text": [
      "connecting to database \"continuous_hoarder\" at \"localhost\"\n",
      " keeping plots at \"./pics/\"\n"
     ]
    }
   ],
   "source": [
    "import sqlalchemy as sa\n",
    "import matplotlib.pyplot as plt\n",
    "import seaborn as sns\n",
    "import pandas as pd\n",
    "import numpy as np\n",
    "from IPython.display import display\n",
    "import datetime\n",
    "\n",
    "## Dependencies to manipulate CIDs\n",
    "import multihash as mh\n",
    "import cid\n",
    "\n",
    "## Dependencies to manipulate Control Variables\n",
    "import os\n",
    "from dotenv import dotenv_values\n",
    "\n",
    "ENV_FILE='.env' # <- CHANGE THIS TO PLOT YOUR CONFIGURATION\n",
    "\n",
    "dotenv_path = os.path.join('.env')\n",
    "config = dotenv_values(dotenv_path)\n",
    "\n",
    "# Control Values\n",
    "DB_HOST=config['DB_HOST']\n",
    "DB_PORT=config['DB_PORT']\n",
    "DB_NAME=config['DB_NAME']\n",
    "DB_USER=config['DB_USER']\n",
    "DB_PASSWD=config['DB_PASSWD']\n",
    "FIGS_FOLDER=config['FIGS_FOLDER']\n",
    "\n",
    "## DB Credentials\n",
    "print(\n",
    "    f'connecting to database \"{DB_NAME}\" at \"{DB_HOST}\"\\n',\n",
    "    f'keeping plots at \"{FIGS_FOLDER}\"')\n",
    "\n",
    "engine = sa.create_engine(\n",
    "    f'postgresql://{DB_USER}:{DB_PASSWD}@{DB_HOST}:{DB_PORT}/{DB_NAME}')\n",
    "con = engine.connect()"
   ]
  },
  {
   "cell_type": "code",
   "execution_count": null,
   "outputs": [],
   "source": [
    "## Check the integrity of the database (Diagnostics)\n",
    "\n"
   ],
   "metadata": {
    "collapsed": false
   }
  }
 ],
 "metadata": {
  "kernelspec": {
   "display_name": "Python 3",
   "language": "python",
   "name": "python3"
  },
  "language_info": {
   "codemirror_mode": {
    "name": "ipython",
    "version": 2
   },
   "file_extension": ".py",
   "mimetype": "text/x-python",
   "name": "python",
   "nbconvert_exporter": "python",
   "pygments_lexer": "ipython2",
   "version": "2.7.6"
  }
 },
 "nbformat": 4,
 "nbformat_minor": 0
}
