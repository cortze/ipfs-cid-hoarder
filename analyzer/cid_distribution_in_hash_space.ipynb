{
 "cells": [
  {
   "cell_type": "markdown",
   "metadata": {},
   "source": [
    "# CID distribution over the hash space\n",
    "\n",
    "This script allows to visualize how homogeneous is the CID distribution in the SHA256 Hash space.\n",
    "\n",
    "The distributions are calculated using the Normalized SHA256 Hash space, which means that instead of having the values from [0, (2^256)-1], values go from [0, 1]."
   ]
  },
  {
   "cell_type": "code",
   "metadata": {},
   "source": [
    "## Import dependencies \n",
    "import sqlalchemy as sa\n",
    "import pandas as pd\n",
    "import seaborn as sns\n",
    "import matplotlib.pyplot as plt\n",
    "import numpy as np\n",
    "\n",
    "## Dependencies to manipulate CIDs\n",
    "import multihash as mh\n",
    "import cid \n",
    "\n",
    "## DB Credentials\n",
    "HOST=\"localhost\"\n",
    "PORT=\"5432\"\n",
    "DB=\"hoarder_test\"\n",
    "USER=\"hoarder\"\n",
    "PASSWD=\"password\"\n",
    "\n",
    "# Connecte with the DB\n",
    "engine = sa.create_engine(f'postgresql://{USER}:{PASSWD}@{HOST}:{PORT}/{DB}')"
   ],
   "outputs": [],
   "execution_count": null
  },
  {
   "cell_type": "code",
   "metadata": {},
   "source": [
    "## Obtain the whole list of CIDs and get their normalized distribution in the hash space \n",
    "\n",
    "cids = pd.read_sql_query(\"\"\"\n",
    "SELECT cid_hash from cid_info;\n",
    "\"\"\", engine)\n",
    "\n",
    "# get multihash from the CID b58 string()\n",
    "cids['multihash'] = cids.apply(lambda row: cid.make_cid(row['cid_hash']).multihash ,axis=1)\n",
    "\n",
    "# get the int of the multihash.hash()\n",
    "cids['hash_int'] = cids.apply(lambda row: int.from_bytes( mh.decode(row['multihash']).digest, byteorder=\"big\") ,axis=1)\n",
    "\n",
    "sha256 = (2 ** 256) -1\n",
    "# normalize multihash.hash() in int in sha256 space\n",
    "cids['hash_int_norm'] = cids.apply(lambda row: row['hash_int'] / sha256 ,axis=1)\n",
    "\n",
    "ordered_cids = cids.sort_values('hash_int_norm')"
   ],
   "outputs": [],
   "execution_count": null
  },
  {
   "cell_type": "code",
   "metadata": {},
   "source": [
    "## plot the CDF distribution\n",
    " \n",
    "sns.set_context(\"talk\", font_scale=1.1)\n",
    "plt.figure(figsize=(12,6))\n",
    "\n",
    "sns.lineplot(y=ordered_cids['hash_int_norm'], x=np.linspace(0, 1, len(ordered_cids['hash_int_norm'])))\n",
    "plt.grid(axis='both')\n",
    "plt.xlabel('Normalized SHA256 Hash Space')\n",
    "plt.ylabel('CIDs')\n",
    "\n"
   ],
   "outputs": [],
   "execution_count": null
  },
  {
   "cell_type": "code",
   "metadata": {},
   "source": [
    "## plot the PFD distribution\n",
    "\n",
    "BINS = 256 # KBUCKETs\n",
    "\n",
    "bins = plt.hist(ordered_cids['hash_int_norm'], color='darkgrey', bins=BINS)\n",
    "\n",
    "plt.grid()\n",
    "plt.xlabel('Normalized SHA256 Hash Space', fontsize=18)\n",
    "plt.ylabel('CIDs', fontsize=18)\n",
    "\n",
    "mean = np.mean(bins[0])\n",
    "maxi = max(bins[0])\n",
    "mini = min(bins[0])\n",
    "\n",
    "print(mean)\n",
    "\n",
    "plt.hlines(y=[mean], xmin=0, xmax=1.005, color='black', linestyle='--', label='50%')\n",
    "plt.text(1.006, mean+0.005, 'AVG', ha='left', va='center', color='black', fontsize=14)\n",
    "plt.tick_params(axis='x', which='major', labelsize=16)\n",
    "plt.tick_params(axis='y', which='major', labelsize=16)\n",
    "plt.xlim(-0.05, 1.1)\n"
   ],
   "outputs": [],
   "execution_count": null
  },
  {
   "cell_type": "code",
   "metadata": {},
   "source": [
    "## Close the connection with the DB \n",
    "\n",
    "engine.dispose()"
   ],
   "outputs": [],
   "execution_count": null
  }
 ],
 "metadata": {
  "kernelspec": {
   "display_name": "Python 3.8.10 ('plotter')",
   "language": "python",
   "name": "python3"
  },
  "language_info": {
   "codemirror_mode": {
    "name": "ipython",
    "version": 3
   },
   "file_extension": ".py",
   "mimetype": "text/x-python",
   "name": "python",
   "nbconvert_exporter": "python",
   "pygments_lexer": "ipython3",
   "version": "3.8.10"
  },
  "orig_nbformat": 4,
  "vscode": {
   "interpreter": {
    "hash": "27c6d93b683c7a1975bfd893e997da1d087883bf6b96d34d1e63ecc137ac54d0"
   }
  }
 },
 "nbformat": 4,
 "nbformat_minor": 2
}
