{
 "cells": [
  {
   "cell_type": "markdown",
   "metadata": {},
   "source": [
    "# Analysis of the In-Degree ration of the PR Holders\n",
    "This script analyzes the in-degree ratio of PR holders among the K closest peers we track over the hoards.\n",
    "\n",
    "The in-degree ratio correspond to the number of PR holders that remain inside the K closest peers over rounds"
   ]
  },
  {
   "cell_type": "code",
   "metadata": {},
   "source": [
    "## Import dependencies\n",
    "import sqlalchemy as sa\n",
    "import pandas as pd\n",
    "import seaborn as sns\n",
    "import multihash as mh\n",
    "import hashlib as hl\n",
    "from cid import make_cid\n",
    "from math import log2\n",
    "import matplotlib.pyplot as plt\n",
    "import numpy as np\n",
    "\n",
    "## DB Credentials\n",
    "HOST=\"localhost\"\n",
    "PORT=\"5432\"\n",
    "DB=\"cid_hoarder_db\"\n",
    "USER=\"user\"\n",
    "PASSWD=\"password\"\n",
    "\n",
    "# Connecte with the DB\n",
    "engine = sa.create_engine(f'postgresql://{USER}:{PASSWD}@{HOST}:{PORT}/{DB}')\n",
    "\n",
    "## plotting style\n",
    "fig_size= (7,4)\n",
    "sns.set_context(\"talk\", font_scale=1)\n"
   ],
   "outputs": [],
   "execution_count": null
  },
  {
   "cell_type": "code",
   "metadata": {},
   "source": [
    "## all kind of necessary formulas\n",
    "\n",
    "def get_in_degree(org, new) -> int:\n",
    "    in_degree = 0\n",
    "    for new_peer in new:\n",
    "        if new_peer in org:\n",
    "            in_degree += 1\n",
    "    return in_degree\n",
    "\n",
    "def hash_int_from_peer_id(peer_id: str) -> int:\n",
    "    multihash = mh.from_b58_string(peer_id)\n",
    "    hash_b = hl.sha256(multihash).digest()\n",
    "    return int.from_bytes(hash_b, byteorder='big')\n",
    "\n",
    "def hash_int_from_cid(cid: str) -> int:\n",
    "    cid = make_cid(cid)\n",
    "    cid_hash = hl.sha256(cid.multihash).digest()\n",
    "    return int.from_bytes(cid_hash, byteorder='big')\n",
    "\n",
    "\n",
    "def get_xor_distance(base: int, comp: int) -> int:\n",
    "    return abs(base ^ comp)\n",
    "\n",
    "\n",
    "# hour distributions from the study\n",
    "sql_query=\"\"\"\n",
    "    SELECT \n",
    "        cid_hash,\n",
    "        ping_round, \n",
    "        fetch_time_since_publication_m\n",
    "    FROM fetch_results\n",
    "    ORDER BY ping_round;\n",
    "\"\"\"\n",
    "ping_rounds = pd.read_sql_query(sql_query, engine)\n",
    "\n",
    "avg_fetcht = ping_rounds.groupby(by=\"ping_round\").agg({\"fetch_time_since_publication_m\": \"mean\"})\n",
    "hours_dist = avg_fetcht[\"fetch_time_since_publication_m\"].to_numpy()\n",
    "\n",
    "hours_dist = (hours_dist - hours_dist[0]) / 60"
   ],
   "outputs": [],
   "execution_count": null
  },
  {
   "cell_type": "code",
   "metadata": {},
   "source": [
    "## Get the number of total hops that needed to be done to get the closest peers over the entire study\n",
    "\n",
    "sql_query = \"\"\"\n",
    "    SELECT \n",
    "        k_peers.ping_round,\n",
    "        k_peers.cid_hash,\n",
    "        count(k_peers.peer_id)\n",
    "    FROM k_closest_peers as k_peers\n",
    "    INNER JOIN pr_holders\n",
    "    ON k_peers.cid_hash = pr_holders.cid_hash\n",
    "        and k_peers.peer_id=pr_holders.peer_id\n",
    "    GROUP BY k_peers.ping_round, k_peers.cid_hash\n",
    "    ORDER BY ping_round asc;\n",
    "\"\"\"\n",
    "\n",
    "in_degree = pd.read_sql_query(sql_query, engine)\n",
    "\n",
    "ping_r = in_degree.groupby(\"ping_round\")\n",
    "\n",
    "# make dist\n",
    "dist = []\n",
    "cids = 0\n",
    "for i, row in ping_r:\n",
    "    ## Keep track of how many cids are published\n",
    "    if cids == 0:\n",
    "        cids = len(row[\"count\"])\n",
    "    dist.append(row[\"count\"])\n",
    "\n",
    "## Recompose the In-Degree ration from the publication of the CIDs\n",
    "# get an array of len(CIDs) full of K values (at publication we have 100% in-degree)\n",
    "init_dist = [max(in_degree[\"count\"])] * cids\n",
    "dist.insert(0, init_dist)\n",
    "\n",
    "## Make a boxplot with the distribution\n",
    "fig, ax = plt.subplots(figsize=(12,6))\n",
    "ax.boxplot(dist, positions=hours_dist, showfliers=True) \n",
    "ticks = np.linspace(0.0, 2.0, 10) ###### <---- *UPDATE THIS* to fit the study duration (start, finish, number of ticks)\n",
    "plt.xticks(ticks, ticks.astype(int))\n",
    "plt.xlabel(\"Time Since Publication (Hours)\")\n",
    "plt.ylabel(\"In Degree Ration\")\n",
    "plt.show()\n",
    "\n"
   ],
   "outputs": [],
   "execution_count": null
  },
  {
   "cell_type": "code",
   "metadata": {},
   "source": [
    "engine.dispose()"
   ],
   "outputs": [],
   "execution_count": null
  }
 ],
 "metadata": {
  "kernelspec": {
   "display_name": "Python 3.8.10 ('plotter')",
   "language": "python",
   "name": "python3"
  },
  "language_info": {
   "codemirror_mode": {
    "name": "ipython",
    "version": 3
   },
   "file_extension": ".py",
   "mimetype": "text/x-python",
   "name": "python",
   "nbconvert_exporter": "python",
   "pygments_lexer": "ipython3",
   "version": "3.8.10"
  },
  "orig_nbformat": 4,
  "vscode": {
   "interpreter": {
    "hash": "27c6d93b683c7a1975bfd893e997da1d087883bf6b96d34d1e63ecc137ac54d0"
   }
  }
 },
 "nbformat": 4,
 "nbformat_minor": 2
}
